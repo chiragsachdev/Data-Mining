{
 "nbformat": 4,
 "nbformat_minor": 2,
 "metadata": {
  "language_info": {
   "name": "python",
   "codemirror_mode": {
    "name": "ipython",
    "version": 3
   }
  },
  "orig_nbformat": 2,
  "file_extension": ".py",
  "mimetype": "text/x-python",
  "name": "python",
  "npconvert_exporter": "python",
  "pygments_lexer": "ipython3",
  "version": 3
 },
 "cells": [
  {
   "cell_type": "code",
   "execution_count": 14,
   "metadata": {},
   "outputs": [],
   "source": [
    "import os, glob, numpy as np, pandas as pd, math\n",
    "from sklearn import linear_model as skl"
   ]
  },
  {
   "cell_type": "code",
   "execution_count": 15,
   "metadata": {},
   "outputs": [],
   "source": [
    "def ft_get_rmse(Y_test,Y_predicted):\n",
    "    test = (Y_test - Y_predicted).tolist()\n",
    "    sse = 0\n",
    "    for i in test:\n",
    "        sse += i[0] * i[0]\n",
    "    rmse = math.sqrt(sse/len(test))\n",
    "    return rmse"
   ]
  },
  {
   "cell_type": "code",
   "execution_count": 16,
   "metadata": {},
   "outputs": [],
   "source": [
    "def ft_Linear_Regression(X,Y,X_test,Y_test):\n",
    "    reg = skl.LinearRegression()\n",
    "    reg_model = reg.fit(X,Y)\n",
    "    W = reg_model.coef_\n",
    "    b = reg_model.intercept_\n",
    "    Y_predicted = reg.predict(X_test)\n",
    "    rmse = ft_get_rmse(Y_test,Y_predicted)\n",
    "    return rmse"
   ]
  },
  {
   "cell_type": "code",
   "execution_count": 17,
   "metadata": {},
   "outputs": [],
   "source": [
    "def ft_Ridge_Regression(X,Y,X_test,Y_test):\n",
    "\trmse = {}\n",
    "\ti = 0.1\n",
    "\twhile(i<=10):\n",
    "\t\treg = skl.Ridge(alpha=i)\n",
    "\t\treg_model = reg.fit(X,Y)\n",
    "\t\tW = reg_model.coef_\n",
    "\t\tb = reg_model.intercept_\n",
    "\t\tY_predicted = reg.predict(X_test)\n",
    "\t\trmse[i]=ft_get_rmse(Y_test,Y_predicted)\n",
    "\t\ti+=0.1\n",
    "\treturn rmse\n"
   ]
  },
  {
   "cell_type": "code",
   "execution_count": 18,
   "metadata": {},
   "outputs": [],
   "source": [
    "def ft_Lasso_Regression(X,Y,X_test,Y_test):\n",
    "\trmse = {}\n",
    "\ti = 0.1\n",
    "\twhile(i<=10):\n",
    "\t\treg = skl.Lasso(alpha = i)\n",
    "\t\treg_model = reg.fit(X,Y)\n",
    "\t\tW = reg_model.coef_\n",
    "\t\tb = reg_model.intercept_\n",
    "\t\tY_predicted = reg.predict(X_test)\n",
    "\t\trmse[i] = ft_get_rmse(Y_test,Y_predicted)\n",
    "\t\ti+=0.1\n",
    "\t\tW = reg_model.coef_\n",
    "\t\tdata = zip([i for i in range(280)],W)\n",
    "\treturn rmse"
   ]
  },
  {
   "cell_type": "code",
   "execution_count": 19,
   "metadata": {},
   "outputs": [],
   "source": [
    "df = pd.read_csv(\"./Dataset/blogData_train.csv\")\n",
    "df = pd.DataFrame(df.values)\n",
    "X = np.matrix(df.loc[:,:279].values)\n",
    "Y = np.matrix(df.loc[:,280:].values)\n",
    "\n",
    "df = pd.read_csv(\"./Dataset/blogData_test-2012.03.31.01_00.csv\")\n",
    "df = pd.DataFrame(df.values)\n",
    "X_test = np.matrix(df.loc[:,:279].values)\n",
    "Y_test = np.matrix(df.loc[:,280:].values)\n",
    "\n",
    "linear = ft_Linear_Regression(X,Y,X_test,Y_test)\n",
    "ridge = ft_Ridge_Regression(X,Y,X_test,Y_test)\n",
    "lasso = ft_Lasso_Regression(X,Y,X_test,Y_test)\n"
   ]
  },
  {
   "cell_type": "code",
   "execution_count": 17,
   "metadata": {},
   "outputs": [],
   "source": [
    "ridge_sorted = sorted(ridge.items(),key = lambda k:k[1])\n",
    "lasso_sorted = sorted(lasso.items(),key = lambda k:k[1])"
   ]
  },
  {
   "cell_type": "code",
   "execution_count": 18,
   "metadata": {},
   "outputs": [
    {
     "data": {
      "text/plain": "(0.1, 40.48845397408349)"
     },
     "execution_count": 18,
     "metadata": {},
     "output_type": "execute_result"
    }
   ],
   "source": [
    "ridge_sorted[0]"
   ]
  },
  {
   "cell_type": "code",
   "execution_count": 19,
   "metadata": {},
   "outputs": [
    {
     "data": {
      "text/plain": "(6.799999999999992, 47.819401355483784)"
     },
     "execution_count": 19,
     "metadata": {},
     "output_type": "execute_result"
    }
   ],
   "source": [
    "lasso_sorted[0]"
   ]
  },
  {
   "cell_type": "code",
   "execution_count": 20,
   "metadata": {},
   "outputs": [
    {
     "data": {
      "text/plain": "40.49432999042948"
     },
     "execution_count": 20,
     "metadata": {},
     "output_type": "execute_result"
    }
   ],
   "source": [
    "linear"
   ]
  },
  {
   "cell_type": "code",
   "execution_count": 21,
   "metadata": {},
   "outputs": [],
   "source": [
    "op = \"Linear Regression: \" + str(linear) + \"\\n\"\n",
    "op += \"Ridge Regression: \" + str(ridge_sorted[0]) + \"\\n\"\n",
    "op += \"Lasso Regression: \" + str(lasso_sorted[0]) + \"\\n\"\n",
    "\n",
    "fp = open(\"Outputs.txt\",\"w\")\n",
    "fp.write(op)\n",
    "fp.close()"
   ]
  },
  {
   "cell_type": "code",
   "execution_count": 22,
   "metadata": {},
   "outputs": [
    {
     "data": {
      "text/plain": "[(6.799999999999992, 47.819401355483784),\n (6.699999999999992, 47.81940172783207),\n (6.8999999999999915, 47.81940214307809),\n (6.5999999999999925, 47.81940334063812),\n (6.999999999999991, 47.819404105035176),\n (6.499999999999993, 47.819406313080876),\n (7.099999999999991, 47.81940724816856),\n (6.399999999999993, 47.819410634017395),\n (7.19999999999999, 47.819411579734656),\n (6.299999999999994, 47.81941633724087),\n (7.29999999999999, 47.81941710356504),\n (6.199999999999994, 47.81942346855187),\n (7.39999999999999, 47.819423816411266),\n (7.499999999999989, 47.81943174405151),\n (6.099999999999994, 47.819432103186344),\n (7.599999999999989, 47.81944086729509),\n (5.999999999999995, 47.81944241412179),\n (7.699999999999989, 47.819451212938965),\n (5.899999999999995, 47.81945463236749),\n (7.799999999999988, 47.81946279653882),\n (5.799999999999995, 47.81946907512099),\n (7.899999999999988, 47.8194756338099),\n (5.699999999999996, 47.819486176799956),\n (7.999999999999988, 47.81948966245871),\n (8.099999999999987, 47.81950488342555),\n (5.599999999999996, 47.81950667893261),\n (8.199999999999987, 47.819521339033564),\n (5.4999999999999964, 47.81953264933765),\n (8.299999999999986, 47.819539027164794),\n (8.399999999999986, 47.81955793349718),\n (8.499999999999986, 47.81957799412007),\n (5.399999999999997, 47.81958284741026),\n (8.599999999999985, 47.819599318453356),\n (8.699999999999985, 47.81962187776757),\n (5.299999999999997, 47.819626147889224),\n (8.799999999999985, 47.81964556907512),\n (5.1999999999999975, 47.819666371170655),\n (8.899999999999984, 47.819670576670916),\n (8.999999999999984, 47.81969670276451),\n (5.099999999999998, 47.819710297398274),\n (9.099999999999984, 47.81972414094802),\n (9.199999999999983, 47.81975270748591),\n (4.999999999999998, 47.819758109073966),\n (9.299999999999983, 47.81978258906578),\n (4.899999999999999, 47.81981006652645),\n (9.399999999999983, 47.81981359251271),\n (9.499999999999982, 47.819845895230515),\n (4.799999999999999, 47.819866557952594),\n (1.9000000000000006, 47.819877580314966),\n (9.599999999999982, 47.81987936699475),\n (1.8000000000000005, 47.819906354557936),\n (2.0000000000000004, 47.819913525473744),\n (9.699999999999982, 47.81991402948106),\n (4.699999999999999, 47.819928063233064),\n (9.799999999999981, 47.81994992109045),\n (1.7000000000000004, 47.81996979771617),\n (9.89999999999998, 47.81998713608455),\n (4.6, 47.819995325848545),\n (9.99999999999998, 47.82002545022407),\n (4.5, 47.82006937780132),\n (1.6000000000000003, 47.820082692940034),\n (2.1000000000000005, 47.82013255011781),\n (4.4, 47.82015157263799),\n (1.5000000000000002, 47.82022373867916),\n (4.300000000000001, 47.82024456943053),\n (2.2000000000000006, 47.82028769178598),\n (4.200000000000001, 47.820351755969035),\n (1.4000000000000001, 47.820393859813166),\n (2.3000000000000007, 47.820430347346615),\n (4.100000000000001, 47.820476948299735),\n (2.400000000000001, 47.82055348384689),\n (1.3, 47.82060552481997),\n (4.000000000000002, 47.820628532121916),\n (2.500000000000001, 47.820669550976554),\n (2.600000000000001, 47.82076775855464),\n (3.900000000000002, 47.82082364680385),\n (2.700000000000001, 47.82084825151474),\n (1.2, 47.82085253186354),\n (2.800000000000001, 47.820915027584135),\n (2.9000000000000012, 47.8209696008127),\n (3.0000000000000013, 47.82100457150504),\n (3.1000000000000014, 47.8210220680571),\n (3.800000000000002, 47.82103476635399),\n (3.2000000000000015, 47.82103536412813),\n (3.700000000000002, 47.82104138988846),\n (3.3000000000000016, 47.821043568348756),\n (3.600000000000002, 47.821046012186294),\n (3.4000000000000017, 47.82104763717881),\n (3.5000000000000018, 47.821048253883596),\n (1.0999999999999999, 47.82115739455838),\n (0.9999999999999999, 47.821635994175345),\n (0.8999999999999999, 47.822174854158106),\n (0.7999999999999999, 47.82277682744075),\n (0.7, 47.82340929470911),\n (0.6, 47.82389038987179),\n (0.5, 47.824627912403024),\n (0.4, 47.825464274548864),\n (0.30000000000000004, 47.826208977921375),\n (0.2, 47.82859135934782),\n (0.1, 47.82921798960702)]"
     },
     "execution_count": 22,
     "metadata": {},
     "output_type": "execute_result"
    }
   ],
   "source": [
    "lasso_sorted"
   ]
  },
  {
   "cell_type": "code",
   "execution_count": 25,
   "metadata": {},
   "outputs": [
    {
     "name": "stderr",
     "output_type": "stream",
     "text": "C:\\Python37\\lib\\site-packages\\sklearn\\linear_model\\coordinate_descent.py:475: ConvergenceWarning: Objective did not converge. You might want to increase the number of iterations. Duality gap: 10553.064871661365, tolerance: 7449.581422757493\n  positive)\n"
    }
   ],
   "source": [
    "# def ft_Lasso_Regression(X,Y,X_test,Y_test):\n",
    "reg = skl.Lasso(alpha = 6.8)\n",
    "reg_model = reg.fit(X,Y)\n",
    "W = reg_model.coef_\n",
    "b = reg_model.intercept_\n",
    "Y_predicted = reg.predict(X_test)\n",
    "# rmse[i] = ft_get_rmse(Y_test,Y_predicted)\n",
    "W = reg_model.coef_\n",
    "data = [x for x in zip([i for i in range(280)],W)]\n"
   ]
  },
  {
   "cell_type": "code",
   "execution_count": 36,
   "metadata": {},
   "outputs": [],
   "source": [
    "sorted_data = sorted(data,key = lambda k: abs(k[1]), reverse = True)\n",
    "most_imp_features = [x[0] for x in sorted_data[:14]]\n",
    "most_imp_features\n",
    "# sorted_data\n",
    "\n",
    "fp = open(\"Outputs.txt\",'a')\n",
    "fp.write(\"\\nMost important features: \"+str(most_imp_features))\n",
    "fp.close()"
   ]
  }
 ]
}